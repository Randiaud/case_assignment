{
 "cells": [
  {
   "cell_type": "markdown",
   "id": "6bdb90d5",
   "metadata": {},
   "source": [
    "## Uber Exercise\n",
    "\n",
    "Approach that is used in this code \n",
    "- Match restaurant name and post code of restaurant in Uber list and restaurant in UK Food Rating list \n",
    "- String matching is tricky for address field and yields a lot of false negative (restaurant that are supposed to match but flagged as not match)\n",
    "- This is because some address used abbreviation such as rd for Road or ln for Lane\n",
    "\n",
    "- Instead, postal code of one restaurant in Uber list is compared with restaurant in UK Food Rating list.\n",
    "- Post code might yields a higher false positive but significantly lower false negative. FP might occur when two different restaurant with same name and same postal code.\n"
   ]
  },
  {
   "cell_type": "code",
   "execution_count": null,
   "id": "48aa02ca",
   "metadata": {},
   "outputs": [],
   "source": [
    "import requests\n",
    "import csv\n",
    "import json\n",
    "import re\n",
    "from IPython.display import HTML, display"
   ]
  },
  {
   "cell_type": "markdown",
   "id": "70188954",
   "metadata": {},
   "source": [
    "## Extract data from uber csv file\n",
    "\n",
    "-  Store each row as dictionary with field as key (e.g \"Name\", \"Address\")\n",
    "-  Extract post code from address with Regular Expression"
   ]
  },
  {
   "cell_type": "code",
   "execution_count": null,
   "id": "82bc5ff7",
   "metadata": {},
   "outputs": [],
   "source": [
    "pattern ='([A-Z]){1,2}[0-9]{1}[A-Z0-9]?(\\s[[0-9]{1}([A-Z]){2})?'\n",
    "file_path = 'ubereats.csv'\n",
    "uber_restaurant_list =[]\n",
    "uber_rest = {}\n",
    "\n",
    "with open(file_path) as file:\n",
    "    for i in csv.DictReader(file):\n",
    "        uber_rest = dict(i)\n",
    "        address = uber_rest['address']\n",
    "        if re.search(pattern, address):\n",
    "            postal_code = (re.search(pattern, address).group(0))\n",
    "        uber_rest[\"postal_code\"] = postal_code\n",
    "        uber_restaurant_list.append(uber_rest)\n"
   ]
  },
  {
   "cell_type": "markdown",
   "id": "991855bc",
   "metadata": {
    "scrolled": true
   },
   "source": [
    "## Extract authority list from Food Rating API\n",
    "\n",
    "-  Get all the local authority code with London as region"
   ]
  },
  {
   "cell_type": "code",
   "execution_count": null,
   "id": "1603477a",
   "metadata": {},
   "outputs": [],
   "source": [
    "BASE_PATH = \"https://ratings.food.gov.uk/\"\n",
    "\n",
    "response = requests.get(BASE_PATH + \"authorities/en-GB/json\")\n",
    "authority_list = (json.loads(response.text))\n",
    "london_authority_id = []\n",
    "\n",
    "for elem in authority_list['ArrayOfWebLocalAuthorityAPI']['WebLocalAuthorityAPI']:\n",
    "    if elem['RegionName'] == \"London\":\n",
    "        london_authority_id.append(elem['LocalAuthorityIdCode'])"
   ]
  },
  {
   "cell_type": "markdown",
   "id": "6747d5b4",
   "metadata": {},
   "source": [
    "## Extract restaurant within London from Food Rating API\n",
    "\n",
    "- Get all the establishment with business type https://ratings.food.gov.uk/business-types/xml\n",
    "- 1 = Restaurant/Cafe/Canteen\n",
    "- 7843 = Pub/bar/nightclub\n",
    "- 7844 = Takeaway/sandwich shop"
   ]
  },
  {
   "cell_type": "code",
   "execution_count": null,
   "id": "502ed306",
   "metadata": {},
   "outputs": [],
   "source": [
    "business_type_list = ['1','7843','7844']\n",
    "restaurant_london_list =[]\n",
    "\n",
    "def get_restaurant_in_region(authority_code_list, business_type_list):\n",
    "    restaurant_in_region = []\n",
    "    for authority_id in (authority_code_list):\n",
    "        for business_type in (business_type_list):\n",
    "            api_resp = requests.get(BASE_PATH+ \"enhanced-search/en-GB/^/^/ALPHA/\"+business_type+\"/\"+authority_id+\"/1/5000/json\")\n",
    "            json_resp = (json.loads(api_resp.text))\n",
    "            restaurant_in_region.extend(json_resp['FHRSEstablishment']['EstablishmentCollection']['EstablishmentDetail'])\n",
    "    return restaurant_in_region\n",
    "\n",
    "restaurant_london_list = get_restaurant_in_region (london_authority_id,business_type_list)"
   ]
  },
  {
   "cell_type": "markdown",
   "id": "1f86ad80",
   "metadata": {},
   "source": [
    "## Get all the restaurants that are not present on  Uber \n",
    "- Check if name of Restaurant in Uber list is present in Restaurant from Food API and vice versa\n",
    "- Simple substring check using \"in\" operator is performed\n",
    "- Next, if there is a match, check if they have the same postal code using \"==\" operator\n",
    "\n",
    "Finally, exclude all of the restaurants that fulfill both conditions and only keep the restaurants that are yet to be on Uber list"
   ]
  },
  {
   "cell_type": "code",
   "execution_count": null,
   "id": "15442a52",
   "metadata": {},
   "outputs": [],
   "source": [
    "final_list = []\n",
    "\n",
    "for i in range (len(uber_restaurant_list)):\n",
    "    for j in range (len(restaurant_london_list)):\n",
    "        if (restaurant_london_list[j]['BusinessName'] in uber_restaurant_list[i]['name']) or ( uber_restaurant_list[i]['name'] in restaurant_london_list[j]['BusinessName']):  \n",
    "            if restaurant_london_list[j]['PostCode'] == uber_restaurant_list[i]['postal_code']:\n",
    "                continue\n",
    "            else:\n",
    "                final_list.append(restaurant_london_list[j])\n",
    "        else:\n",
    "            final_list.append(restaurant_london_list[j])\n",
    "    "
   ]
  },
  {
   "cell_type": "markdown",
   "id": "b89c841f",
   "metadata": {},
   "source": [
    "## Print all the new restaurants with format Name, Address, Postcode\n",
    "\n",
    "HTML Format"
   ]
  },
  {
   "cell_type": "code",
   "execution_count": null,
   "id": "953289c1",
   "metadata": {
    "scrolled": false
   },
   "outputs": [],
   "source": [
    "data = [['Name','Address','Postal Code']\n",
    "        ]\n",
    "\n",
    "for i in range (len(final_list)):\n",
    "    row = []\n",
    "    address_details = []\n",
    "    row.append(final_list[i]['BusinessName'])\n",
    "    \n",
    "    address_details.append(final_list[i]['AddressLine1'])\n",
    "    address_details.append(final_list[i]['AddressLine2'])\n",
    "    address_details.append(final_list[i]['AddressLine3'])\n",
    "    address_details.append(final_list[i]['AddressLine4'])\n",
    "    \n",
    "    row.append(','.join(filter(None, address_details)))\n",
    "    row.append(final_list[i]['PostCode'])\n",
    "    \n",
    "    data.append(row)\n",
    "\n",
    "display(HTML(\n",
    "   '<table><tr>{}</tr></table>'.format(\n",
    "       '</tr><tr>'.join(\n",
    "           '<td>{}</td>'.format('</td><td>'.join(str(_) for _ in row)) for row in data)\n",
    "       )\n",
    "))"
   ]
  }
 ],
 "metadata": {
  "kernelspec": {
   "display_name": "Python 3 (ipykernel)",
   "language": "python",
   "name": "python3"
  },
  "language_info": {
   "codemirror_mode": {
    "name": "ipython",
    "version": 3
   },
   "file_extension": ".py",
   "mimetype": "text/x-python",
   "name": "python",
   "nbconvert_exporter": "python",
   "pygments_lexer": "ipython3",
   "version": "3.9.7"
  }
 },
 "nbformat": 4,
 "nbformat_minor": 5
}
